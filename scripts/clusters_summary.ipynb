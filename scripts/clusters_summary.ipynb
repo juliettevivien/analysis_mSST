{
 "cells": [
  {
   "cell_type": "code",
   "execution_count": 1,
   "id": "b595a28a",
   "metadata": {},
   "outputs": [],
   "source": [
    "import numpy as np\n",
    "# import matplotlib.pyplot as plt\n",
    "from os.path import join\n",
    "import os\n",
    "import pandas as pd\n",
    "import json"
   ]
  },
  {
   "cell_type": "code",
   "execution_count": 2,
   "id": "bf9519ce",
   "metadata": {},
   "outputs": [],
   "source": [
    "working_path = os.path.dirname(os.getcwd())\n",
    "results_path = join(working_path, \"results\")\n",
    "freq_wide = 'all frequencies'\n",
    "source_path = join(results_path, 'group_level', 'lfp_perc_sig_change', freq_wide, 'Clusters csv')  \n",
    "source_path_on_off = join(results_path, 'ON_vs_OFF', freq_wide, 'Clusters csv')"
   ]
  },
  {
   "cell_type": "code",
   "execution_count": 3,
   "id": "fa600a70",
   "metadata": {},
   "outputs": [],
   "source": [
    "# Create a dataframe with the following columns names: ['Condition', 'Cluster', 'Frequencies involved', 'Peak Freq (Hz)', 'Peak Time (ms)', 'Peak T-Stat', 'Pixel Size', 'P_value']\n",
    "main_df = pd.DataFrame(columns=['Condition', 'Cluster', 'Frequencies involved', 'Peak Freq (Hz)', 'Peak Time (ms)', 'Peak T-Stat', 'Pixel Size', 'P_value'])\n",
    "\n",
    "# Loop through all files in the source directory\n",
    "for file in os.listdir(source_path):\n",
    "    if file.endswith(\".csv\"):\n",
    "        file_path = join(source_path, file)\n",
    "        df = pd.read_csv(file_path)\n",
    "        main_df = pd.concat([main_df, df], ignore_index=True)\n",
    "\n",
    "# repeat for ON versus OFF contrasts\n",
    "for file in os.listdir(source_path_on_off):\n",
    "    if file.endswith(\".csv\"):\n",
    "        file_path = join(source_path_on_off, file)\n",
    "        df = pd.read_csv(file_path)\n",
    "        main_df = pd.concat([main_df, df], ignore_index=True)\n"
   ]
  },
  {
   "cell_type": "code",
   "execution_count": 4,
   "id": "3b3edae0",
   "metadata": {},
   "outputs": [],
   "source": [
    "main_df.to_csv(join(source_path, 'summary_clusters.csv'), index=False)\n",
    "main_df.to_excel(join(source_path, 'summary_clusters.xlsx'), index=False)"
   ]
  }
 ],
 "metadata": {
  "kernelspec": {
   "display_name": "excel_analysis",
   "language": "python",
   "name": "python3"
  },
  "language_info": {
   "codemirror_mode": {
    "name": "ipython",
    "version": 3
   },
   "file_extension": ".py",
   "mimetype": "text/x-python",
   "name": "python",
   "nbconvert_exporter": "python",
   "pygments_lexer": "ipython3",
   "version": "3.10.9"
  }
 },
 "nbformat": 4,
 "nbformat_minor": 5
}
